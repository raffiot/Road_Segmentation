{
 "cells": [
  {
   "cell_type": "code",
   "execution_count": 1,
   "metadata": {},
   "outputs": [],
   "source": [
    "%matplotlib inline\n",
    "import matplotlib.image as mpimg\n",
    "import numpy as np\n",
    "import matplotlib.pyplot as plt\n",
    "import os,sys\n",
    "from PIL import Image\n",
    "from helpers import load_all,save_image,load_image"
   ]
  },
  {
   "cell_type": "code",
   "execution_count": 2,
   "metadata": {},
   "outputs": [
    {
     "name": "stdout",
     "output_type": "stream",
     "text": [
      "loading 100 images\n",
      "loading 100 images\n"
     ]
    }
   ],
   "source": [
    "mode = 'rgb'\n",
    "root_dir = \"../training/\"\n",
    "\n",
    "image_dir = root_dir + \"images/\"\n",
    "gt_dir = root_dir + \"groundtruth/\"\n",
    "\n",
    "imgs,_ = load_all(image_dir,mode)\n",
    "gt_imgs,_ = load_all(gt_dir,mode)\n"
   ]
  },
  {
   "cell_type": "code",
   "execution_count": 3,
   "metadata": {},
   "outputs": [],
   "source": [
    "count = 0\n",
    "\n",
    "#These directories where the images will be saved have to already exist !!\n",
    "new_image_dir = './augmented_training/satellite/'\n",
    "new_gt_dir = './augmented_training/ground_truth/'\n",
    "\n",
    "if not os.path.exists('./augmented_training/'):\n",
    "        os.makedirs('./augmented_training/')\n",
    "        os.makedirs('./augment')\n",
    "        \n",
    "\n",
    "        \n",
    "for i, (img, gt_img) in enumerate(zip(imgs, gt_imgs)):\n",
    "    tmp = img\n",
    "    gt_tmp = gt_img\n",
    "    for k in range(2):\n",
    "        for j in range(4):\n",
    "            save_image(new_image_dir + 'sat_{}.png'.format(count), tmp)\n",
    "            save_image(new_gt_dir + 'gt_{}.png'.format(count), gt_tmp)\n",
    "            tmp = np.rot90(tmp)\n",
    "            gt_tmp = np.rot90(gt_tmp)\n",
    "            count += 1\n",
    "        tmp = np.flip(tmp, 0)\n",
    "        gt_tmp = np.flip(gt_tmp, 0)\n",
    "        \n",
    "#We produce 8 images from one image (included)"
   ]
  },
  {
   "cell_type": "code",
   "execution_count": null,
   "metadata": {},
   "outputs": [],
   "source": []
  }
 ],
 "metadata": {
  "kernelspec": {
   "display_name": "Python 3",
   "language": "python",
   "name": "python3"
  },
  "language_info": {
   "codemirror_mode": {
    "name": "ipython",
    "version": 3
   },
   "file_extension": ".py",
   "mimetype": "text/x-python",
   "name": "python",
   "nbconvert_exporter": "python",
   "pygments_lexer": "ipython3",
   "version": "3.5.4"
  }
 },
 "nbformat": 4,
 "nbformat_minor": 2
}
